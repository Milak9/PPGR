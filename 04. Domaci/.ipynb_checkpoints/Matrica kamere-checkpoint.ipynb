{
 "cells": [
  {
   "cell_type": "code",
   "execution_count": 1,
   "metadata": {},
   "outputs": [],
   "source": [
    "import numpy as np\n",
    "from numpy import linalg as LA\n",
    "np.set_printoptions(suppress=True)"
   ]
  },
  {
   "cell_type": "code",
   "execution_count": 2,
   "metadata": {},
   "outputs": [],
   "source": [
    "def ParametriKamere(T):\n",
    "    # Koordinate centra kamere se odrede kao TC = 0\n",
    "    det1 = np.array([\n",
    "        [T[0][1], T[0][2], T[0][3]],\n",
    "        [T[1][1], T[1][2], T[1][3]],\n",
    "        [T[2][1], T[2][2], T[2][3]]\n",
    "    ])\n",
    "    c1 = LA.det(det1)\n",
    "    \n",
    "    det2 = np.array([\n",
    "        [T[0][0], T[0][2], T[0][3]],\n",
    "        [T[1][0], T[1][2], T[1][3]],\n",
    "        [T[2][0], T[2][2], T[2][3]]\n",
    "    ])\n",
    "    c2 = -LA.det(det2)\n",
    "    \n",
    "    det3 = np.array([\n",
    "        [T[0][0], T[0][1], T[0][3]],\n",
    "        [T[1][0], T[1][1], T[1][3]],\n",
    "        [T[2][0], T[2][1], T[2][3]]\n",
    "    ])\n",
    "    c3 = LA.det(det3)\n",
    "    \n",
    "    det4 = np.array([\n",
    "        [T[0][0], T[0][1], T[0][2]],\n",
    "        [T[1][0], T[1][1], T[1][2]],\n",
    "        [T[2][0], T[2][1], T[2][2]]\n",
    "    ])\n",
    "    c4 = -LA.det(det4)\n",
    "    \n",
    "    [c1, c2, c3] = [c1, c2, c3] / c4\n",
    "    \n",
    "    print(\"Koordinate kamere:\")\n",
    "    print(np.round(c1), np.round(c2), np.round(c3))\n",
    "    \n",
    "    T0 = T[:, :3]\n",
    "    \n",
    "    if LA.det(T0) < 0:\n",
    "        T = -T\n",
    "        T0 = T[:, :3]\n",
    "    \n",
    "    [Q, R] = LA.qr(LA.inv(T0))\n",
    "    \n",
    "    if R[0, 0] < 0:\n",
    "        R[0, :] = -R[0, :]\n",
    "        Q[:, 0] = -Q[:, 0]\n",
    "        \n",
    "    if R[1, 1] < 0:\n",
    "        R[1, :] = -R[1, :]\n",
    "        Q[:, 1] = -Q[:, 1]\n",
    " \n",
    "    if R[2, 2] < 0:\n",
    "        R[2, :] = -R[2, :]\n",
    "        Q[:, 2] = -Q[:, 2]\n",
    "    \n",
    "    K = LA.inv(R)\n",
    "    \n",
    "    if K[2][2] != 1:\n",
    "        K = K / K[2][2]\n",
    "        \n",
    "    A = LA.inv(Q)\n",
    "\n",
    "    print(\"\\nMatrica K:\")\n",
    "    print(K)\n",
    "    print(\"\\nMatrica A:\")\n",
    "    print(A)"
   ]
  },
  {
   "cell_type": "code",
   "execution_count": 3,
   "metadata": {},
   "outputs": [],
   "source": [
    "def CameraDLP(originali, projekcije):\n",
    "    jednacine = np.array([[]])\n",
    "    \n",
    "    # Prodje se kroz tacke i napravi matrica jednacina\n",
    "    for (x, x_p) in zip(originali, projekcije):\n",
    "        prva = np.array([\n",
    "            [0, 0, 0, 0],\n",
    "            -x_p[2] * x,\n",
    "            x_p[1] * x\n",
    "        ])\n",
    "        \n",
    "        druga = np.array([\n",
    "            x_p[2] * x,\n",
    "            [0, 0, 0, 0],\n",
    "            -x_p[0] * x\n",
    "        ])\n",
    "           \n",
    "        prva = np.concatenate(prva)\n",
    "        druga = np.concatenate(druga)\n",
    "        \n",
    "        jednacine = np.append(jednacine, prva)\n",
    "        jednacine = np.append(jednacine, druga)\n",
    "\n",
    "    jednacine = jednacine.reshape(12, 12)\n",
    "    # Preko svd se dobija matrica i uzima se poslednja vrsta\n",
    "    _, _, V = LA.svd(jednacine)\n",
    "    V = V[-1] / V[-1, 0]\n",
    "    V = np.round(V, 4)\n",
    "    print(\"\\nMatrica projektovanja 3x4:\")\n",
    "    print(V.reshape(3, 4))"
   ]
  },
  {
   "cell_type": "code",
   "execution_count": 4,
   "metadata": {},
   "outputs": [
    {
     "name": "stdout",
     "output_type": "stream",
     "text": [
      "Resenja za n = 11:\n",
      "\n",
      "Koordinate kamere:\n",
      "10.0 1.0 -4.0\n",
      "\n",
      "Matrica K:\n",
      "[[ 5.  3. 23.]\n",
      " [ 0.  5.  1.]\n",
      " [ 0.  0.  1.]]\n",
      "\n",
      "Matrica A:\n",
      "[[ 1.  0.  0.]\n",
      " [ 0.  0.  1.]\n",
      " [-0. -1. -0.]]\n"
     ]
    }
   ],
   "source": [
    "print(\"Resenja za n = 11:\\n\")\n",
    "\n",
    "n = 11\n",
    "T = np.array([\n",
    "    [5, -1 - 2 * n, 3, 18 - 3 * n],\n",
    "    [0, -1, 5, 21],\n",
    "    [0, -1, 0, 1]\n",
    "])\n",
    "\n",
    "ParametriKamere(T)"
   ]
  },
  {
   "cell_type": "code",
   "execution_count": 8,
   "metadata": {},
   "outputs": [
    {
     "name": "stdout",
     "output_type": "stream",
     "text": [
      "Resenja za n = 2 (broj indeksa 152/2017):\n",
      "\n",
      "Koordinate kamere:\n",
      "1.0 1.0 -4.0\n",
      "\n",
      "Matrica K:\n",
      "[[5. 3. 5.]\n",
      " [0. 5. 1.]\n",
      " [0. 0. 1.]]\n",
      "\n",
      "Matrica A:\n",
      "[[ 1.  0.  0.]\n",
      " [ 0.  0.  1.]\n",
      " [-0. -1. -0.]]\n"
     ]
    }
   ],
   "source": [
    "print(\"Resenja za n = 2 (broj indeksa 152/2017):\\n\")\n",
    "\n",
    "n = 2\n",
    "T = np.array([\n",
    "    [5, -1 - 2 * n, 3, 18 - 3 * n],\n",
    "    [0, -1, 5, 21],\n",
    "    [0, -1, 0, 1]\n",
    "])\n",
    "\n",
    "ParametriKamere(T)"
   ]
  },
  {
   "cell_type": "code",
   "execution_count": 6,
   "metadata": {},
   "outputs": [
    {
     "name": "stdout",
     "output_type": "stream",
     "text": [
      "Resenja za n = 11:\n",
      "\n",
      "\n",
      "Matrica projektovanja 3x4:\n",
      "[[     1.        -10.98       33.956   -9692.0317]\n",
      " [    26.7404    -10.7543     34.2971 -20328.2746]\n",
      " [     0.0417     -0.0073      0.0722    -46.8369]]\n"
     ]
    }
   ],
   "source": [
    "print(\"Resenja za n = 11:\\n\")\n",
    "n = 11\n",
    "\n",
    "M1 = np.array([460, 280, 250, 1])\n",
    "M2 = np.array([50, 380, 350, 1])\n",
    "M3 = np.array([470, 500, 100, 1])\n",
    "M4 = np.array([380, 630, 50 * n, 1])\n",
    "M5 = np.array([30 * n, 290, 0, 1])\n",
    "M6 = np.array([580, 0, 130, 1])\n",
    "originali = np.array([M1, M2, M3, M4, M5, M6])\n",
    "\n",
    "\n",
    "M1p = np.array([288, 251, 1])\n",
    "M2p = np.array([79, 510, 1])\n",
    "M3p = np.array([470, 440, 1])\n",
    "M4p = np.array([520, 590, 1])\n",
    "M5p = np.array([365, 388, 1])\n",
    "M6p = np.array([365, 20, 1])\n",
    "projekcije = np.array([M1p, M2p, M3p, M4p, M5p, M6p])\n",
    "\n",
    "CameraDLP(originali, projekcije)"
   ]
  },
  {
   "cell_type": "code",
   "execution_count": 7,
   "metadata": {},
   "outputs": [
    {
     "name": "stdout",
     "output_type": "stream",
     "text": [
      "\n",
      "Resenja za n = 2 (broj indeksa 152/2017):\n",
      "\n",
      "\n",
      "Matrica projektovanja 3x4:\n",
      "[[    1.         0.2126    10.2572 -4173.8221]\n",
      " [    5.0458    -2.8361     5.2837 -3774.5706]\n",
      " [    0.0082     0.0048     0.0155   -13.0013]]\n"
     ]
    }
   ],
   "source": [
    "print(\"\\nResenja za n = 2 (broj indeksa 152/2017):\\n\")\n",
    "n = 2\n",
    "\n",
    "M1 = np.array([460, 280, 250, 1])\n",
    "M2 = np.array([50, 380, 350, 1])\n",
    "M3 = np.array([470, 500, 100, 1])\n",
    "M4 = np.array([380, 630, 50 * n, 1])\n",
    "M5 = np.array([30 * n, 290, 0, 1])\n",
    "M6 = np.array([580, 0, 130, 1])\n",
    "originali = np.array([M1, M2, M3, M4, M5, M6])\n",
    "\n",
    "M1p = np.array([288, 251, 1])\n",
    "M2p = np.array([79, 510, 1])\n",
    "M3p = np.array([470, 440, 1])\n",
    "M4p = np.array([520, 590, 1])\n",
    "M5p = np.array([365, 388, 1])\n",
    "M6p = np.array([365, 20, 1])\n",
    "projekcije = np.array([M1p, M2p, M3p, M4p, M5p, M6p])\n",
    "\n",
    "CameraDLP(originali, projekcije)"
   ]
  }
 ],
 "metadata": {
  "kernelspec": {
   "display_name": "Python 3",
   "language": "python",
   "name": "python3"
  },
  "language_info": {
   "codemirror_mode": {
    "name": "ipython",
    "version": 3
   },
   "file_extension": ".py",
   "mimetype": "text/x-python",
   "name": "python",
   "nbconvert_exporter": "python",
   "pygments_lexer": "ipython3",
   "version": "3.8.5"
  }
 },
 "nbformat": 4,
 "nbformat_minor": 4
}
